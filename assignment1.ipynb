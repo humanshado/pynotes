{
 "cells": [
  {
   "cell_type": "markdown",
   "metadata": {},
   "source": [
    "Before you turn this problem in, make sure everything runs as expected. First, **restart the kernel** (in the menubar, select Kernel$\\rightarrow$Restart) and then **run all cells** (in the menubar, select Cell$\\rightarrow$Run All).\n",
    "\n",
    "Make sure you fill in any place that says `YOUR CODE HERE` or \"YOUR ANSWER HERE\", as well as your name and collaborators below:"
   ]
  },
  {
   "cell_type": "code",
   "execution_count": 1,
   "metadata": {
    "collapsed": true
   },
   "outputs": [],
   "source": [
    "NAME = \"Abubakar Usman\"\n",
    "COLLABORATORS = \"\""
   ]
  },
  {
   "cell_type": "markdown",
   "metadata": {},
   "source": [
    "---"
   ]
  },
  {
   "cell_type": "markdown",
   "metadata": {
    "deletable": false,
    "editable": false,
    "nbgrader": {
     "checksum": "025a4eea2a78c45c67fc1caea791ebb4",
     "grade": false,
     "grade_id": "cell-f5fcdeb0fc15331b",
     "locked": true,
     "schema_version": 1,
     "solution": false
    }
   },
   "source": [
    "# Assignment 1 - Python\n",
    "(15 points total)"
   ]
  },
  {
   "cell_type": "markdown",
   "metadata": {
    "deletable": false,
    "editable": false,
    "nbgrader": {
     "checksum": "de315f32c574fe20f6f04d0d4e1e36be",
     "grade": false,
     "grade_id": "cell-ed45987b76efc3c2",
     "locked": true,
     "schema_version": 1,
     "solution": false
    }
   },
   "source": [
    "## Introduction"
   ]
  },
  {
   "cell_type": "markdown",
   "metadata": {
    "deletable": false,
    "editable": false,
    "nbgrader": {
     "checksum": "26449ebc11bb8aa4707e90c3e0f55ec2",
     "grade": false,
     "grade_id": "cell-898d27bc238c06ed",
     "locked": true,
     "schema_version": 1,
     "solution": false
    }
   },
   "source": [
    "## Learning Outcomes\n",
    "In this assignment you will practice:\n",
    "\n",
    "- Basic Python syntax\n",
    "- Writing simple Python programs"
   ]
  },
  {
   "cell_type": "markdown",
   "metadata": {
    "deletable": false,
    "editable": false,
    "nbgrader": {
     "checksum": "94c39c63f53d4c2198fd8e94ca00bf24",
     "grade": false,
     "grade_id": "cell-24f92f0c4bb37f7b",
     "locked": true,
     "schema_version": 1,
     "solution": false
    }
   },
   "source": [
    "## Preparation"
   ]
  },
  {
   "cell_type": "markdown",
   "metadata": {
    "collapsed": true,
    "deletable": false,
    "editable": false,
    "nbgrader": {
     "checksum": "d99adae064eff0b39079aa7065c4523a",
     "grade": false,
     "grade_id": "cell-216ed47c429ce8fa",
     "locked": true,
     "schema_version": 1,
     "solution": false
    }
   },
   "source": [
    "### Question 1\n",
    "(3 points)"
   ]
  },
  {
   "cell_type": "code",
   "execution_count": 2,
   "metadata": {
    "collapsed": true,
    "deletable": false,
    "nbgrader": {
     "checksum": "73d38d4af4ef886f7fc206cacea03617",
     "grade": false,
     "grade_id": "cell-fb83ae036d49cd54",
     "locked": false,
     "schema_version": 1,
     "solution": true
    }
   },
   "outputs": [],
   "source": [
    "# Write a function that returns True if a point is within a rectangle specified by a top left\n",
    "# corner and a bottom right corner\n",
    "# e.g. isIn((1,2), (3,4), (1.5, 3.2)) should return True\n",
    "# isIn((-1,0), (5,5), (6,0)) should return False\n",
    "def isIn(topLeft=(0,0), bottomRight=(0,0), point=(0,0)):\n",
    "    # YOUR CODE HERE\n",
    "    if point[0] >= topLeft[0] and point[0] <= bottomRight[0] and point[1] >= topLeft[1] and point[1] <= bottomRight[1]:\n",
    "        return True\n",
    "    else:\n",
    "        return False\n",
    "    raise NotImplementedError()"
   ]
  },
  {
   "cell_type": "markdown",
   "metadata": {
    "deletable": false,
    "editable": false,
    "nbgrader": {
     "checksum": "43a23b3ad3c69bd64cb0dca34368074e",
     "grade": false,
     "grade_id": "cell-9f1acbafb99d5974",
     "locked": true,
     "schema_version": 1,
     "solution": false
    }
   },
   "source": [
    "**Question 1 Rubric.**\n",
    "(3 points)\n",
    "The answer to the main question 3 points,\n",
    "1 point per upheld property (i.e., when `isIn(...)` holds, doesn't hold, and a basic case with the coordinate origin)."
   ]
  },
  {
   "cell_type": "code",
   "execution_count": 3,
   "metadata": {},
   "outputs": [
    {
     "data": {
      "text/plain": [
       "True"
      ]
     },
     "execution_count": 3,
     "metadata": {},
     "output_type": "execute_result"
    }
   ],
   "source": [
    "isIn((1,2), (3,4), (1.5, 3.2))"
   ]
  },
  {
   "cell_type": "code",
   "execution_count": 4,
   "metadata": {},
   "outputs": [
    {
     "data": {
      "text/plain": [
       "False"
      ]
     },
     "execution_count": 4,
     "metadata": {},
     "output_type": "execute_result"
    }
   ],
   "source": [
    "isIn((-1,0), (5,5), (6,0)) "
   ]
  },
  {
   "cell_type": "code",
   "execution_count": 5,
   "metadata": {},
   "outputs": [
    {
     "data": {
      "text/plain": [
       "True"
      ]
     },
     "execution_count": 5,
     "metadata": {},
     "output_type": "execute_result"
    }
   ],
   "source": [
    "isIn((0,0), (0,0), (0,0)) "
   ]
  },
  {
   "cell_type": "code",
   "execution_count": 6,
   "metadata": {
    "collapsed": true,
    "deletable": false,
    "editable": false,
    "nbgrader": {
     "checksum": "502faa653790fbb309dde90a020f92ad",
     "grade": true,
     "grade_id": "cell-5ce20dc0f9c72478",
     "locked": true,
     "points": 1,
     "schema_version": 1,
     "solution": false
    }
   },
   "outputs": [],
   "source": [
    "assert isIn((1,2), (3,4), (1.5, 3.2))"
   ]
  },
  {
   "cell_type": "code",
   "execution_count": null,
   "metadata": {
    "collapsed": true,
    "deletable": false,
    "editable": false,
    "nbgrader": {
     "checksum": "80b9b99a769037c9f82ca7b2cb30f4a6",
     "grade": true,
     "grade_id": "cell-6230439af6632d62",
     "locked": true,
     "points": 1,
     "schema_version": 1,
     "solution": false
    }
   },
   "outputs": [],
   "source": []
  },
  {
   "cell_type": "code",
   "execution_count": null,
   "metadata": {
    "collapsed": true,
    "deletable": false,
    "editable": false,
    "nbgrader": {
     "checksum": "543af6654b14dcd58c141c21e63a0a3f",
     "grade": true,
     "grade_id": "cell-281973bd9194a0c1",
     "locked": true,
     "points": 1,
     "schema_version": 1,
     "solution": false
    }
   },
   "outputs": [],
   "source": []
  },
  {
   "cell_type": "markdown",
   "metadata": {
    "deletable": false,
    "editable": false,
    "nbgrader": {
     "checksum": "196e52396164127440a23a72c7bc4b45",
     "grade": false,
     "grade_id": "cell-b8fccc1b30d04008",
     "locked": true,
     "schema_version": 1,
     "solution": false
    }
   },
   "source": [
    "### Question 2\n",
    "(3 points)"
   ]
  },
  {
   "cell_type": "code",
   "execution_count": 7,
   "metadata": {
    "collapsed": true,
    "deletable": false,
    "nbgrader": {
     "checksum": "a077eb8ce34f6b6b0807112fb7f19698",
     "grade": false,
     "grade_id": "cell-4de3ad07063b602f",
     "locked": false,
     "schema_version": 1,
     "solution": true
    }
   },
   "outputs": [],
   "source": [
    "# Modify your function so it takes a list of points rather than a single point and returns True only if all points in the list\n",
    "# are in the rectangle\n",
    "# e.g. allIn((0,0), (5,5), [(1,1), (0,0), (5,5)]) should return True\n",
    "# allIn((0,0), (5,5), [(1,1), (0,0), (5,6)]) should return False\n",
    "def allIn(topLeft=(0,0), bottomRight=(0,0), pointList=[]):\n",
    "    # YOUR CODE HERE\n",
    "    if not pointList:\n",
    "        return \n",
    "    for point in pointList:\n",
    "        result = isIn(topLeft, bottomRight, point)\n",
    "        if result == False:\n",
    "            return False\n",
    "    return True\n",
    "    raise NotImplementedError()"
   ]
  },
  {
   "cell_type": "markdown",
   "metadata": {
    "deletable": false,
    "editable": false,
    "nbgrader": {
     "checksum": "d6baf8c5470caa4bfae3a677f9d5b5d4",
     "grade": false,
     "grade_id": "cell-3ecfd34ccc602d5b",
     "locked": true,
     "schema_version": 1,
     "solution": false
    }
   },
   "source": [
    "**Question 2 Rubric.**\n",
    "(3 points)\n",
    "The answer to the main question 3 points,\n",
    "1 point per upheld property (i.e., when `allIn(...)` holds, doesn't hold, and a basic case with the coordinate origin)."
   ]
  },
  {
   "cell_type": "code",
   "execution_count": 8,
   "metadata": {},
   "outputs": [
    {
     "data": {
      "text/plain": [
       "True"
      ]
     },
     "execution_count": 8,
     "metadata": {},
     "output_type": "execute_result"
    }
   ],
   "source": [
    "allIn((0,0), (5,5), [(1,1), (0,0), (5,5)])"
   ]
  },
  {
   "cell_type": "code",
   "execution_count": 9,
   "metadata": {},
   "outputs": [
    {
     "data": {
      "text/plain": [
       "False"
      ]
     },
     "execution_count": 9,
     "metadata": {},
     "output_type": "execute_result"
    }
   ],
   "source": [
    "allIn((0,0), (5,5), [(1,1), (0,0), (5,6)])"
   ]
  },
  {
   "cell_type": "code",
   "execution_count": 10,
   "metadata": {},
   "outputs": [
    {
     "data": {
      "text/plain": [
       "True"
      ]
     },
     "execution_count": 10,
     "metadata": {},
     "output_type": "execute_result"
    }
   ],
   "source": [
    "allIn((0,0), (0,0), [(0,0), (0,0), (0,0)])"
   ]
  },
  {
   "cell_type": "code",
   "execution_count": 11,
   "metadata": {
    "collapsed": true
   },
   "outputs": [],
   "source": [
    "allIn((0,0), (0,0), [])"
   ]
  },
  {
   "cell_type": "code",
   "execution_count": 12,
   "metadata": {
    "collapsed": true,
    "deletable": false,
    "editable": false,
    "nbgrader": {
     "checksum": "72691d4fb13257116a215440469a03a1",
     "grade": true,
     "grade_id": "cell-93d6a064af509b2d",
     "locked": true,
     "points": 1,
     "schema_version": 1,
     "solution": false
    }
   },
   "outputs": [],
   "source": [
    "assert not allIn((0,0), (0,0), [])"
   ]
  },
  {
   "cell_type": "code",
   "execution_count": null,
   "metadata": {
    "collapsed": true,
    "deletable": false,
    "editable": false,
    "nbgrader": {
     "checksum": "1dfc669639fde3a0b49f8da1d4f0abeb",
     "grade": true,
     "grade_id": "cell-facb252022b573af",
     "locked": true,
     "points": 1,
     "schema_version": 1,
     "solution": false
    }
   },
   "outputs": [],
   "source": []
  },
  {
   "cell_type": "code",
   "execution_count": null,
   "metadata": {
    "collapsed": true,
    "deletable": false,
    "editable": false,
    "nbgrader": {
     "checksum": "4877b1ab308ec4531ce338f6e9a99373",
     "grade": true,
     "grade_id": "cell-fab05eae5cd85b29",
     "locked": true,
     "points": 1,
     "schema_version": 1,
     "solution": false
    }
   },
   "outputs": [],
   "source": []
  },
  {
   "cell_type": "markdown",
   "metadata": {
    "deletable": false,
    "editable": false,
    "nbgrader": {
     "checksum": "a8518bcf6234abfed1757f940f512071",
     "grade": false,
     "grade_id": "cell-f3bbb453d1a395f8",
     "locked": true,
     "schema_version": 1,
     "solution": false
    }
   },
   "source": [
    "### Question 3\n",
    "(3 point)"
   ]
  },
  {
   "cell_type": "markdown",
   "metadata": {},
   "source": [
    "In this question, you are given a string `s` which represents a DNA string. The string `s` consists of symbols 'A', 'C', 'G', and 'T'. An example of a length 21 DNA string is `\"ATGCTTCAGAAAGGTCTTACG.\"` \n",
    "\n",
    "Your task is to write a code which will count the number of times each of the symbols 'A', 'C', 'G', and 'T' occur in `s`. The output should be a list of 4 integers."
   ]
  },
  {
   "cell_type": "code",
   "execution_count": 13,
   "metadata": {
    "collapsed": true,
    "deletable": false,
    "editable": false,
    "nbgrader": {
     "checksum": "d30687676586578e560afd60e7feff54",
     "grade": false,
     "grade_id": "cell-8e84b969338e6e72",
     "locked": true,
     "schema_version": 1,
     "solution": false
    }
   },
   "outputs": [],
   "source": [
    "# Here is the DNA string:\n",
    "\n",
    "s = 'AGCTTTTCATTCTGACTGCAACGGGCAATATGTCTCTGTGTGGATTAAAAAAAGAGTGTCTGATAGCAGC'"
   ]
  },
  {
   "cell_type": "code",
   "execution_count": 14,
   "metadata": {
    "collapsed": true,
    "deletable": false,
    "nbgrader": {
     "checksum": "35fde262c7f64bbe73fe87e8300af1f0",
     "grade": false,
     "grade_id": "cell-6e63758a67a1aef1",
     "locked": false,
     "schema_version": 1,
     "solution": true
    }
   },
   "outputs": [],
   "source": [
    "# Write the code to print out a list of four integers, which will represent the count\n",
    "# of each of the symbols: 'A', 'C', 'G', and 'T'\n",
    "def question3Function(input = s):\n",
    "    # YOUR CODE HERE\n",
    "    a, c, g, t = 0,0,0,0\n",
    "    for item in input:\n",
    "        if item == 'A':\n",
    "            a += 1\n",
    "        elif item == 'C':\n",
    "            c += 1\n",
    "        elif item == 'G':\n",
    "            g += 1\n",
    "        else:\n",
    "            t += 1\n",
    "    return [a, c, g, t]\n",
    "    raise NotImplementedError()"
   ]
  },
  {
   "cell_type": "markdown",
   "metadata": {
    "deletable": false,
    "editable": false,
    "nbgrader": {
     "checksum": "693c6f7306e096e966276634b483d09d",
     "grade": false,
     "grade_id": "cell-8f8999c179af20c6",
     "locked": true,
     "schema_version": 1,
     "solution": false
    }
   },
   "source": [
    "**Question 3 Rubric.** (3 point) The exact answer to the main question is 3 points."
   ]
  },
  {
   "cell_type": "code",
   "execution_count": 15,
   "metadata": {},
   "outputs": [
    {
     "data": {
      "text/plain": [
       "[20, 12, 17, 21]"
      ]
     },
     "execution_count": 15,
     "metadata": {},
     "output_type": "execute_result"
    }
   ],
   "source": [
    "question3Function()"
   ]
  },
  {
   "cell_type": "code",
   "execution_count": null,
   "metadata": {
    "collapsed": true,
    "deletable": false,
    "editable": false,
    "nbgrader": {
     "checksum": "5bf3d3b3dc4b464455e44947cf840225",
     "grade": true,
     "grade_id": "cell-f6eb1bf9545aa152",
     "locked": true,
     "points": 3,
     "schema_version": 1,
     "solution": false
    }
   },
   "outputs": [],
   "source": []
  },
  {
   "cell_type": "markdown",
   "metadata": {
    "deletable": false,
    "editable": false,
    "nbgrader": {
     "checksum": "8d67a5781423669e1670db707c2527ca",
     "grade": false,
     "grade_id": "cell-90848383ff4457c2",
     "locked": true,
     "schema_version": 1,
     "solution": false
    }
   },
   "source": [
    "### Question 4\n",
    "(6 point)"
   ]
  },
  {
   "cell_type": "code",
   "execution_count": 16,
   "metadata": {
    "collapsed": true,
    "deletable": false,
    "editable": false,
    "nbgrader": {
     "checksum": "aab22724913abfa9e431ebc3c23edfd6",
     "grade": false,
     "grade_id": "cell-efc05e1f694f1c7e",
     "locked": true,
     "schema_version": 1,
     "solution": false
    }
   },
   "outputs": [],
   "source": [
    "# Run this cell to create a dictionary of states' capitals\n",
    "capitals={\n",
    "    'Alabama': 'Montgomery',\n",
    "    'Alaska': 'Juneau',\n",
    "    'Arizona':'Phoenix',\n",
    "    'Arkansas':'Little Rock',\n",
    "    'California': 'Sacramento',\n",
    "    'Colorado':'Denver',\n",
    "    'Connecticut':'Hartford',\n",
    "    'Delaware':'Dover',\n",
    "    'Florida': 'Tallahassee',\n",
    "    'Georgia': 'Atlanta',\n",
    "    'Hawaii': 'Honolulu',\n",
    "    'Idaho': 'Boise',\n",
    "    'Illinios': 'Springfield',\n",
    "    'Indiana': 'Indianapolis',\n",
    "    'Iowa': 'Des Monies',\n",
    "    'Kansas': 'Topeka',\n",
    "    'Kentucky': 'Frankfort',\n",
    "    'Louisiana': 'Baton Rouge',\n",
    "    'Maine': 'Augusta',\n",
    "    'Maryland': 'Annapolis',\n",
    "    'Massachusetts': 'Boston',\n",
    "    'Michigan': 'Lansing',\n",
    "    'Minnesota': 'St. Paul',\n",
    "    'Mississippi': 'Jackson',\n",
    "    'Missouri': 'Jefferson City',\n",
    "    'Montana': 'Helena',\n",
    "    'Nebraska': 'Lincoln',\n",
    "    'Neveda': 'Carson City',\n",
    "    'New Hampshire': 'Concord',\n",
    "    'New Jersey': 'Trenton',\n",
    "    'New Mexico': 'Santa Fe',\n",
    "    'New York': 'Albany',\n",
    "    'North Carolina': 'Raleigh',\n",
    "    'North Dakota': 'Bismarck',\n",
    "    'Ohio': 'Columbus',\n",
    "    'Oklahoma': 'Oklahoma City',\n",
    "    'Oregon': 'Salem',\n",
    "    'Pennsylvania': 'Harrisburg',\n",
    "    'Rhoda Island': 'Providence',\n",
    "    'South Carolina': 'Columbia',\n",
    "    'South Dakota': 'Pierre',\n",
    "    'Tennessee': 'Nashville',\n",
    "    'Texas': 'Austin',\n",
    "    'Utah': 'Salt Lake City',\n",
    "    'Vermont': 'Montpelier',\n",
    "    'Virginia': 'Richmond',\n",
    "    'Washington': 'Olympia',\n",
    "    'West Virginia': 'Charleston',\n",
    "    'Wisconsin': 'Madison',\n",
    "    'Wyoming': 'Cheyenne'  \n",
    "}\n",
    "# Write a function to return a list of all capitals that contain the name of a state in their name as a substring\n",
    "# The list that is produced should include Kansas City and one other"
   ]
  },
  {
   "cell_type": "markdown",
   "metadata": {
    "deletable": false,
    "editable": false,
    "nbgrader": {
     "checksum": "8a77e62207415b8caa42730e24b3c179",
     "grade": false,
     "grade_id": "cell-6bd6395d9c2badda",
     "locked": true,
     "schema_version": 1,
     "solution": false
    }
   },
   "source": [
    "**Question 4 Rubric.** (6 point) The order independent answer to the main question is 6 points."
   ]
  },
  {
   "cell_type": "code",
   "execution_count": 17,
   "metadata": {
    "collapsed": true,
    "deletable": false,
    "nbgrader": {
     "checksum": "8aaf15ac278fd51417f07afb84f77c2b",
     "grade": false,
     "grade_id": "cell-c77e2c4238016c36",
     "locked": false,
     "schema_version": 1,
     "solution": true
    }
   },
   "outputs": [],
   "source": [
    "def state_in_capital_name(capitals):\n",
    "    # YOUR CODE HERE\n",
    "    my_list = []\n",
    "    for key, value in capitals.items():\n",
    "        if key in value:\n",
    "            my_list.append(value)\n",
    "    return my_list\n",
    "    raise NotImplementedError()"
   ]
  },
  {
   "cell_type": "code",
   "execution_count": 18,
   "metadata": {},
   "outputs": [
    {
     "data": {
      "text/plain": [
       "['Indianapolis', 'Oklahoma City']"
      ]
     },
     "execution_count": 18,
     "metadata": {},
     "output_type": "execute_result"
    }
   ],
   "source": [
    "state_in_capital_name(capitals)"
   ]
  },
  {
   "cell_type": "code",
   "execution_count": null,
   "metadata": {
    "collapsed": true,
    "deletable": false,
    "editable": false,
    "nbgrader": {
     "checksum": "84f7159ad5cab32148f9cbd8fe84ae87",
     "grade": true,
     "grade_id": "cell-8fb3410b996d49c3",
     "locked": true,
     "points": 6,
     "schema_version": 1,
     "solution": false
    }
   },
   "outputs": [],
   "source": []
  }
 ],
 "metadata": {
  "kernelspec": {
   "display_name": "Python 3",
   "language": "python",
   "name": "myenv"
  },
  "language_info": {
   "codemirror_mode": {
    "name": "ipython",
    "version": 3
   },
   "file_extension": ".py",
   "mimetype": "text/x-python",
   "name": "python",
   "nbconvert_exporter": "python",
   "pygments_lexer": "ipython3",
   "version": "3.6.4"
  },
  "latex_envs": {
   "LaTeX_envs_menu_present": true,
   "autoclose": false,
   "autocomplete": true,
   "bibliofile": "biblio.bib",
   "cite_by": "apalike",
   "current_citInitial": 1,
   "eqLabelWithNumbers": true,
   "eqNumInitial": 1,
   "hotkeys": {
    "equation": "Ctrl-E",
    "itemize": "Ctrl-I"
   },
   "labels_anchors": false,
   "latex_user_defs": false,
   "report_style_numbering": false,
   "user_envs_cfg": false
  },
  "nbTranslate": {
   "displayLangs": [
    "*"
   ],
   "hotkey": "alt-t",
   "langInMainMenu": true,
   "sourceLang": "en",
   "targetLang": "fr",
   "useGoogleTranslate": true
  },
  "toc": {
   "base_numbering": 1,
   "nav_menu": {},
   "number_sections": false,
   "sideBar": true,
   "skip_h1_title": false,
   "title_cell": "Table of Contents",
   "title_sidebar": "Contents",
   "toc_cell": false,
   "toc_position": {},
   "toc_section_display": true,
   "toc_window_display": true
  },
  "varInspector": {
   "cols": {
    "lenName": 16,
    "lenType": 16,
    "lenVar": 40
   },
   "kernels_config": {
    "python": {
     "delete_cmd_postfix": "",
     "delete_cmd_prefix": "del ",
     "library": "var_list.py",
     "varRefreshCmd": "print(var_dic_list())"
    },
    "r": {
     "delete_cmd_postfix": ") ",
     "delete_cmd_prefix": "rm(",
     "library": "var_list.r",
     "varRefreshCmd": "cat(var_dic_list()) "
    }
   },
   "types_to_exclude": [
    "module",
    "function",
    "builtin_function_or_method",
    "instance",
    "_Feature"
   ],
   "window_display": false
  }
 },
 "nbformat": 4,
 "nbformat_minor": 2
}
