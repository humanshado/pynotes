{
 "cells": [
  {
   "cell_type": "markdown",
   "metadata": {},
   "source": [
    "Before you turn this problem in, make sure everything runs as expected. First, **restart the kernel** (in the menubar, select Kernel$\\rightarrow$Restart) and then **run all cells** (in the menubar, select Cell$\\rightarrow$Run All).\n",
    "\n",
    "Make sure you fill in any place that says `YOUR CODE HERE` or \"YOUR ANSWER HERE\", as well as your name and collaborators below:"
   ]
  },
  {
   "cell_type": "code",
   "execution_count": 98,
   "metadata": {
    "collapsed": true
   },
   "outputs": [],
   "source": [
    "NAME = \"ABUBAKAR USMAN\"\n",
    "COLLABORATORS = \"\""
   ]
  },
  {
   "cell_type": "markdown",
   "metadata": {},
   "source": [
    "---"
   ]
  },
  {
   "cell_type": "markdown",
   "metadata": {
    "collapsed": true,
    "deletable": false,
    "editable": false,
    "nbgrader": {
     "checksum": "493f9a0688d162e1e937626abbe9c94d",
     "grade": false,
     "grade_id": "cell-899e0c60715cbea7",
     "locked": true,
     "schema_version": 1,
     "solution": false
    }
   },
   "source": [
    "# Assignment 2 - Data Analysis using Pandas\n",
    "(15 points total)"
   ]
  },
  {
   "cell_type": "markdown",
   "metadata": {
    "deletable": false,
    "editable": false,
    "nbgrader": {
     "checksum": "616064d069ddd957d1ea693777843e6b",
     "grade": false,
     "grade_id": "cell-14fabca2ad976517",
     "locked": true,
     "schema_version": 1,
     "solution": false
    }
   },
   "source": [
    "## Introduction\n",
    "\n",
    "For this assignment, we will analyze the open dataset with real data on the passengers aboard the Titanic.\n",
    "\n",
    "On April 15, 1912, during her maiden voyage, the Titanic sank after colliding with an iceberg, killing 1502 out of 2224 passengers and crew. This sensational tragedy shocked the international community and led to better safety regulations for ships.\n",
    "\n",
    "One of the reasons that the shipwreck led to such loss of life was that there were not enough lifeboats for the passengers and crew. Although there was some element of luck involved in surviving the sinking, some groups of people were more likely to survive than others, such as women, children, and the upper-class.   \n",
    "\n",
    "In this assignment, we ask you to analyze the data to answer the follwoing question:   \n"
   ]
  },
  {
   "cell_type": "markdown",
   "metadata": {
    "deletable": false,
    "editable": false,
    "nbgrader": {
     "checksum": "43a1d24ed590d0f9e7d25950fd7152f0",
     "grade": false,
     "grade_id": "cell-45e3dc5538b5e497",
     "locked": true,
     "schema_version": 1,
     "solution": false
    }
   },
   "source": [
    "**Question 1.** What categories of passengers wer most likely to survive the Titanic disaster?"
   ]
  },
  {
   "cell_type": "markdown",
   "metadata": {
    "deletable": false,
    "editable": false,
    "nbgrader": {
     "checksum": "cc30da692ad29f973d4662395acba6b1",
     "grade": false,
     "grade_id": "cell-f71f61341c12845f",
     "locked": true,
     "schema_version": 1,
     "solution": false
    }
   },
   "source": [
    "You might include the following attributes in your analysis:  \n",
    "* passenger age\n",
    "* passenger gender\n",
    "* cabin class the passenger travelled in (variable \"ticket class\")"
   ]
  },
  {
   "cell_type": "markdown",
   "metadata": {
    "deletable": false,
    "editable": false,
    "nbgrader": {
     "checksum": "83b94bd7aa55da46d6099b1d1e47f4b3",
     "grade": false,
     "grade_id": "cell-f066cc4729835234",
     "locked": true,
     "schema_version": 1,
     "solution": false
    }
   },
   "source": [
    "**Question 1 Rubric.**    \n",
    "(4 points)   \n",
    "* the answer to the main questions (2 points)   \n",
    "* the detailed explanation of the logic of the analysis (2 points)\n",
    "\n",
    "The answer may refer to one or more small tables."
   ]
  },
  {
   "cell_type": "markdown",
   "metadata": {
    "deletable": false,
    "nbgrader": {
     "checksum": "7e6c27c87c13a889fac5f0ee30c7d7e7",
     "grade": true,
     "grade_id": "cell-a9e6a327e9a01b9f",
     "locked": false,
     "points": 4,
     "schema_version": 1,
     "solution": true
    }
   },
   "source": [
    "YOUR ANSWER HERE"
   ]
  },
  {
   "cell_type": "markdown",
   "metadata": {
    "deletable": false,
    "editable": false,
    "nbgrader": {
     "checksum": "f53a81d1d7455e161af0f7d9727ced71",
     "grade": false,
     "grade_id": "cell-31c37e0b11eead82",
     "locked": true,
     "schema_version": 1,
     "solution": false
    }
   },
   "source": [
    "**Question 2.** What other attributes did you use for the analysis? Explain how you used them. Provide a complete list of all attributes used."
   ]
  },
  {
   "cell_type": "markdown",
   "metadata": {
    "deletable": false,
    "editable": false,
    "nbgrader": {
     "checksum": "3f930120ac78a73e7baee4d93473222b",
     "grade": false,
     "grade_id": "cell-6605aeaeaf5e4629",
     "locked": true,
     "schema_version": 1,
     "solution": false
    }
   },
   "source": [
    "**Question 2 Rubric**     \n",
    "3 points:    \n",
    "* 1 point for any other attributes used for the analysis;  \n",
    "* 2 point for the explanation.\n"
   ]
  },
  {
   "cell_type": "markdown",
   "metadata": {
    "deletable": false,
    "nbgrader": {
     "checksum": "e69a9fe6ba5b9a4e707458add6e9380a",
     "grade": true,
     "grade_id": "cell-b83ceaf96bcd149f",
     "locked": false,
     "points": 3,
     "schema_version": 1,
     "solution": true
    }
   },
   "source": [
    "YOUR ANSWER HERE"
   ]
  },
  {
   "cell_type": "markdown",
   "metadata": {
    "deletable": false,
    "editable": false,
    "nbgrader": {
     "checksum": "c4cbe94a2f58f73febfe0222247fca76",
     "grade": false,
     "grade_id": "cell-4019b0e454699a4e",
     "locked": true,
     "schema_version": 1,
     "solution": false
    }
   },
   "source": [
    "**Question 3.** Did you engineer any attributes? If yes, explain the rationale and how the new attributes were used in the analysis?       \n",
    "If you have excluded any attributes from the analysis, provide an explanation why you believe they can be excluded.\n"
   ]
  },
  {
   "cell_type": "markdown",
   "metadata": {
    "deletable": false,
    "editable": false,
    "nbgrader": {
     "checksum": "9c5d63c406312f509b9d7b351c865b7b",
     "grade": false,
     "grade_id": "cell-2d36566d7a35178f",
     "locked": true,
     "schema_version": 1,
     "solution": false
    }
   },
   "source": [
    "3 points"
   ]
  },
  {
   "cell_type": "markdown",
   "metadata": {
    "deletable": false,
    "nbgrader": {
     "checksum": "3d31d5775d9c21d7a00a8bb4372a87c9",
     "grade": true,
     "grade_id": "cell-9de748acef4ea4db",
     "locked": false,
     "points": 3,
     "schema_version": 1,
     "solution": true
    }
   },
   "source": [
    "YOUR ANSWER HERE"
   ]
  },
  {
   "cell_type": "markdown",
   "metadata": {
    "deletable": false,
    "editable": false,
    "nbgrader": {
     "checksum": "71376f909e5c1d431a97a3bd4a605bdc",
     "grade": false,
     "grade_id": "cell-68a62c0ee590fcff",
     "locked": true,
     "schema_version": 1,
     "solution": false
    }
   },
   "source": [
    "**Question 4** How did you treat missing values? Provide a detailed explanation in the comments."
   ]
  },
  {
   "cell_type": "markdown",
   "metadata": {
    "deletable": false,
    "editable": false,
    "nbgrader": {
     "checksum": "57511ecddbe8ea44b71bf5cf79b0247f",
     "grade": false,
     "grade_id": "cell-df90fb03f1e3d572",
     "locked": true,
     "schema_version": 1,
     "solution": false
    }
   },
   "source": [
    "5 points"
   ]
  },
  {
   "cell_type": "markdown",
   "metadata": {
    "deletable": false,
    "nbgrader": {
     "checksum": "dfe356e5ea69ad343a19dd6c45eeab1f",
     "grade": true,
     "grade_id": "cell-0b9c09f21deaa2f2",
     "locked": false,
     "points": 5,
     "schema_version": 1,
     "solution": true
    }
   },
   "source": [
    "YOUR ANSWER HERE"
   ]
  },
  {
   "cell_type": "markdown",
   "metadata": {
    "deletable": false,
    "editable": false,
    "nbgrader": {
     "checksum": "240ab7000bd34191d0fd53c4cc582e97",
     "grade": false,
     "grade_id": "cell-569a60775eaa0322",
     "locked": true,
     "schema_version": 1,
     "solution": false
    }
   },
   "source": [
    "The data can be downloaded from kaggle.com (https://www.kaggle.com/c/titanic/data). Download the training set - 'train.csv' file. Webpage with the data also contains the data dictionary explaining the data in each column."
   ]
  },
  {
   "cell_type": "markdown",
   "metadata": {
    "deletable": false,
    "nbgrader": {
     "checksum": "5fa665fee8809bd0257bd98f6156d689",
     "grade": true,
     "grade_id": "cell-a79719105d3a80ea",
     "locked": false,
     "points": 0,
     "schema_version": 1,
     "solution": true
    }
   },
   "source": [
    "### Question 1\n",
    "\n",
    "The analysis showed passengers likely to survive were between the ages of 20 and 49; were female; and boarded class 1. This supports the fact that there were no sufficient life boats on board and priority was given to passengers in the highest class.\n",
    "\n",
    "<li> The age of passengers onboard titanic ranged from infants of less than 1 year old to 80year old senior and hence the need to create age brackets of '0-12(child)', '13-20(teenager)', '20-49(adult)','50-80(senior citizen)'. For ease of analysis, the data was filtered to create a new survivors-only table using a boolean array on 'Survival' column with value equals to 1. This table is named p_survival. \n",
    "<li>Counting the number of tickets by grouping based on age brackets revealed that Passengers within the ages of 20 and 49 had about 68% chance of survival. \n",
    "<li>Grouping by gender and counting the tickets also coincidentally showed about 68% chances of survival for female while male passenger had less than half of that at 32% chance.\n",
    "<li>Passengers with class 1 tickets had about 40% change of survival, followed by class 3 with about 35%. It was surprising to find out that passengers with class 2 tickets had lower chance of about 25% which 10% lower than class 3. \n",
    "\n",
    "These were all shown in the code and summarised in the visualizations below"
   ]
  },
  {
   "cell_type": "code",
   "execution_count": 99,
   "metadata": {
    "scrolled": true
   },
   "outputs": [
    {
     "data": {
      "text/html": [
       "<div>\n",
       "<style scoped>\n",
       "    .dataframe tbody tr th:only-of-type {\n",
       "        vertical-align: middle;\n",
       "    }\n",
       "\n",
       "    .dataframe tbody tr th {\n",
       "        vertical-align: top;\n",
       "    }\n",
       "\n",
       "    .dataframe thead th {\n",
       "        text-align: right;\n",
       "    }\n",
       "</style>\n",
       "<table border=\"1\" class=\"dataframe\">\n",
       "  <thead>\n",
       "    <tr style=\"text-align: right;\">\n",
       "      <th></th>\n",
       "      <th>Survived</th>\n",
       "      <th>Pclass</th>\n",
       "      <th>Name</th>\n",
       "      <th>Sex</th>\n",
       "      <th>Age</th>\n",
       "      <th>SibSp</th>\n",
       "      <th>Parch</th>\n",
       "      <th>Ticket</th>\n",
       "      <th>Fare</th>\n",
       "      <th>Cabin</th>\n",
       "      <th>Embarked</th>\n",
       "      <th>family</th>\n",
       "    </tr>\n",
       "    <tr>\n",
       "      <th>PassengerId</th>\n",
       "      <th></th>\n",
       "      <th></th>\n",
       "      <th></th>\n",
       "      <th></th>\n",
       "      <th></th>\n",
       "      <th></th>\n",
       "      <th></th>\n",
       "      <th></th>\n",
       "      <th></th>\n",
       "      <th></th>\n",
       "      <th></th>\n",
       "      <th></th>\n",
       "    </tr>\n",
       "  </thead>\n",
       "  <tbody>\n",
       "    <tr>\n",
       "      <th>2</th>\n",
       "      <td>1</td>\n",
       "      <td>1</td>\n",
       "      <td>Cumings, Mrs. John Bradley (Florence Briggs Th...</td>\n",
       "      <td>female</td>\n",
       "      <td>38.0</td>\n",
       "      <td>1</td>\n",
       "      <td>0</td>\n",
       "      <td>PC 17599</td>\n",
       "      <td>71.2833</td>\n",
       "      <td>C85</td>\n",
       "      <td>C</td>\n",
       "      <td>True</td>\n",
       "    </tr>\n",
       "    <tr>\n",
       "      <th>3</th>\n",
       "      <td>1</td>\n",
       "      <td>3</td>\n",
       "      <td>Heikkinen, Miss. Laina</td>\n",
       "      <td>female</td>\n",
       "      <td>26.0</td>\n",
       "      <td>0</td>\n",
       "      <td>0</td>\n",
       "      <td>STON/O2. 3101282</td>\n",
       "      <td>7.9250</td>\n",
       "      <td>NaN</td>\n",
       "      <td>S</td>\n",
       "      <td>False</td>\n",
       "    </tr>\n",
       "    <tr>\n",
       "      <th>4</th>\n",
       "      <td>1</td>\n",
       "      <td>1</td>\n",
       "      <td>Futrelle, Mrs. Jacques Heath (Lily May Peel)</td>\n",
       "      <td>female</td>\n",
       "      <td>35.0</td>\n",
       "      <td>1</td>\n",
       "      <td>0</td>\n",
       "      <td>113803</td>\n",
       "      <td>53.1000</td>\n",
       "      <td>C123</td>\n",
       "      <td>S</td>\n",
       "      <td>True</td>\n",
       "    </tr>\n",
       "    <tr>\n",
       "      <th>9</th>\n",
       "      <td>1</td>\n",
       "      <td>3</td>\n",
       "      <td>Johnson, Mrs. Oscar W (Elisabeth Vilhelmina Berg)</td>\n",
       "      <td>female</td>\n",
       "      <td>27.0</td>\n",
       "      <td>0</td>\n",
       "      <td>2</td>\n",
       "      <td>347742</td>\n",
       "      <td>11.1333</td>\n",
       "      <td>NaN</td>\n",
       "      <td>S</td>\n",
       "      <td>True</td>\n",
       "    </tr>\n",
       "    <tr>\n",
       "      <th>10</th>\n",
       "      <td>1</td>\n",
       "      <td>2</td>\n",
       "      <td>Nasser, Mrs. Nicholas (Adele Achem)</td>\n",
       "      <td>female</td>\n",
       "      <td>14.0</td>\n",
       "      <td>1</td>\n",
       "      <td>0</td>\n",
       "      <td>237736</td>\n",
       "      <td>30.0708</td>\n",
       "      <td>NaN</td>\n",
       "      <td>C</td>\n",
       "      <td>True</td>\n",
       "    </tr>\n",
       "  </tbody>\n",
       "</table>\n",
       "</div>"
      ],
      "text/plain": [
       "             Survived  Pclass  \\\n",
       "PassengerId                     \n",
       "2                   1       1   \n",
       "3                   1       3   \n",
       "4                   1       1   \n",
       "9                   1       3   \n",
       "10                  1       2   \n",
       "\n",
       "                                                          Name     Sex   Age  \\\n",
       "PassengerId                                                                    \n",
       "2            Cumings, Mrs. John Bradley (Florence Briggs Th...  female  38.0   \n",
       "3                                       Heikkinen, Miss. Laina  female  26.0   \n",
       "4                 Futrelle, Mrs. Jacques Heath (Lily May Peel)  female  35.0   \n",
       "9            Johnson, Mrs. Oscar W (Elisabeth Vilhelmina Berg)  female  27.0   \n",
       "10                         Nasser, Mrs. Nicholas (Adele Achem)  female  14.0   \n",
       "\n",
       "             SibSp  Parch            Ticket     Fare Cabin Embarked  family  \n",
       "PassengerId                                                                  \n",
       "2                1      0          PC 17599  71.2833   C85        C    True  \n",
       "3                0      0  STON/O2. 3101282   7.9250   NaN        S   False  \n",
       "4                1      0            113803  53.1000  C123        S    True  \n",
       "9                0      2            347742  11.1333   NaN        S    True  \n",
       "10               1      0            237736  30.0708   NaN        C    True  "
      ]
     },
     "execution_count": 99,
     "metadata": {},
     "output_type": "execute_result"
    }
   ],
   "source": [
    "# imports\n",
    "import pandas as pd\n",
    "import matplotlib.pyplot as plt\n",
    "%matplotlib inline\n",
    "\n",
    "# reading titanic data and setting PassengerId as the index\n",
    "df_titanic = pd.read_csv('train.csv', index_col=0)\n",
    "\n",
    "# creating a new column for passengers with family members on df_titanic\n",
    "df_titanic['family'] = (df_titanic['SibSp'] > 0) | (df_titanic['Parch'] > 0)\n",
    "\n",
    "# slicing out a table of passengers that survived\n",
    "p_survived = df_titanic[df_titanic['Survived'] == 1]\n",
    "p_survived.head()"
   ]
  },
  {
   "cell_type": "code",
   "execution_count": 100,
   "metadata": {
    "deletable": false,
    "nbgrader": {
     "checksum": "ed520b0cb2eb0f4f0cf0a40d83cda6e1",
     "grade": true,
     "grade_id": "cell-f5492560f84de6ac",
     "locked": false,
     "points": 0,
     "schema_version": 1,
     "solution": true
    }
   },
   "outputs": [
    {
     "ename": "NotImplementedError",
     "evalue": "",
     "output_type": "error",
     "traceback": [
      "\u001b[0;31m---------------------------------------------------------------------------\u001b[0m",
      "\u001b[0;31mNotImplementedError\u001b[0m                       Traceback (most recent call last)",
      "\u001b[0;32m<ipython-input-100-15b94d1fa268>\u001b[0m in \u001b[0;36m<module>\u001b[0;34m()\u001b[0m\n\u001b[1;32m      1\u001b[0m \u001b[0;31m# YOUR CODE HERE\u001b[0m\u001b[0;34m\u001b[0m\u001b[0;34m\u001b[0m\u001b[0m\n\u001b[0;32m----> 2\u001b[0;31m \u001b[0;32mraise\u001b[0m \u001b[0mNotImplementedError\u001b[0m\u001b[0;34m(\u001b[0m\u001b[0;34m)\u001b[0m\u001b[0;34m\u001b[0m\u001b[0m\n\u001b[0m",
      "\u001b[0;31mNotImplementedError\u001b[0m: "
     ]
    }
   ],
   "source": [
    "# YOUR CODE HERE\n",
    "raise NotImplementedError()"
   ]
  },
  {
   "cell_type": "code",
   "execution_count": 113,
   "metadata": {},
   "outputs": [
    {
     "data": {
      "text/plain": [
       "age_bins\n",
       "(0, 12]     11.695906\n",
       "(12, 20]    12.280702\n",
       "(20, 49]    68.128655\n",
       "(49, 80]     7.894737\n",
       "Name: Ticket, dtype: float64"
      ]
     },
     "execution_count": 113,
     "metadata": {},
     "output_type": "execute_result"
    }
   ],
   "source": [
    "# calculating the median age of both male and female passengers that survived \n",
    "by_age = p_survived.groupby('Sex')['Age'].median()\n",
    "median_age_female = by_age['female']\n",
    "median_age_male = by_age['male']\n",
    "\n",
    "# handling missing values in age column by filling with mean ages calculated above\n",
    "import warnings\n",
    "warnings.simplefilter('ignore')\n",
    "c1 = (p_survived['Sex'] == 'female') & (p_survived['Age'].isnull())\n",
    "c2 = (p_survived['Sex'] == 'male') & (p_survived['Age'].isnull())\n",
    "p_survived.loc[c1,'Age'] = p_survived.loc[c1,'Age'].fillna(median_age_female)\n",
    "p_survived.loc[c2,'Age'] = p_survived.loc[c2,'Age'].fillna(median_age_male)\n",
    "\n",
    "# creating six age brackets of '0-12(child)', '13-20(teenager)', '21-49(adult)','50-80(senior citizen)'.\n",
    "bins = pd.IntervalIndex.from_tuples([(0, 12), (12, 20), (20, 49), (49, 80)])\n",
    "p_survived['age_bins'] = pd.cut(p_survived['Age'],bins,include_lowest=True)\n",
    "\n",
    "# calculating number of survivors by age\n",
    "p_survived.groupby(['age_bins'])['Ticket'].count()*100/342"
   ]
  },
  {
   "cell_type": "code",
   "execution_count": null,
   "metadata": {
    "collapsed": true,
    "deletable": false,
    "nbgrader": {
     "checksum": "e601a8ba41d8372cc24cb5f77d5fd081",
     "grade": true,
     "grade_id": "cell-ac0dd4d7be775262",
     "locked": false,
     "points": 0,
     "schema_version": 1,
     "solution": true
    }
   },
   "outputs": [],
   "source": [
    "# YOUR CODE HERE\n",
    "raise NotImplementedError()"
   ]
  },
  {
   "cell_type": "code",
   "execution_count": 112,
   "metadata": {},
   "outputs": [
    {
     "data": {
      "text/plain": [
       "Sex\n",
       "female    68.128655\n",
       "male      31.871345\n",
       "Name: Ticket, dtype: float64"
      ]
     },
     "execution_count": 112,
     "metadata": {},
     "output_type": "execute_result"
    }
   ],
   "source": [
    "# calculating number of survivors by gender\n",
    "p_survived.groupby(['Sex'])['Ticket'].count()*100/342"
   ]
  },
  {
   "cell_type": "code",
   "execution_count": null,
   "metadata": {
    "collapsed": true,
    "deletable": false,
    "nbgrader": {
     "checksum": "daa3abaf2d6c7468253cd29f99c0fe74",
     "grade": true,
     "grade_id": "cell-6e3c3a98e5b60b47",
     "locked": false,
     "points": 0,
     "schema_version": 1,
     "solution": true
    }
   },
   "outputs": [],
   "source": [
    "# YOUR CODE HERE\n",
    "raise NotImplementedError()"
   ]
  },
  {
   "cell_type": "code",
   "execution_count": 103,
   "metadata": {},
   "outputs": [
    {
     "data": {
      "text/plain": [
       "Pclass\n",
       "1    39.766082\n",
       "2    25.438596\n",
       "3    34.795322\n",
       "Name: Ticket, dtype: float64"
      ]
     },
     "execution_count": 103,
     "metadata": {},
     "output_type": "execute_result"
    }
   ],
   "source": [
    "# calculating number of survivors by class\n",
    "p_survived.groupby(['Pclass'])['Ticket'].count()*100/342"
   ]
  },
  {
   "cell_type": "code",
   "execution_count": null,
   "metadata": {
    "collapsed": true,
    "deletable": false,
    "nbgrader": {
     "checksum": "63392fb5ca1a22723e1eacbc7e7178ec",
     "grade": true,
     "grade_id": "cell-c5377f24adc99d53",
     "locked": false,
     "points": 0,
     "schema_version": 1,
     "solution": true
    }
   },
   "outputs": [],
   "source": [
    "# YOUR CODE HERE\n",
    "raise NotImplementedError()"
   ]
  },
  {
   "cell_type": "code",
   "execution_count": 104,
   "metadata": {},
   "outputs": [
    {
     "data": {
      "text/plain": [
       "family\n",
       "False    47.660819\n",
       "True     52.339181\n",
       "Name: Ticket, dtype: float64"
      ]
     },
     "execution_count": 104,
     "metadata": {},
     "output_type": "execute_result"
    }
   ],
   "source": [
    "# calculating number of survivors by having family onboard or not\n",
    "p_survived.groupby(['family'])['Ticket'].count()*100/342"
   ]
  },
  {
   "cell_type": "code",
   "execution_count": null,
   "metadata": {
    "collapsed": true,
    "deletable": false,
    "nbgrader": {
     "checksum": "ffce1e1da39a182df6adef41f06ed47b",
     "grade": true,
     "grade_id": "cell-d7b9a6c26f5260f1",
     "locked": false,
     "points": 0,
     "schema_version": 1,
     "solution": true
    }
   },
   "outputs": [],
   "source": [
    "# YOUR CODE HERE\n",
    "raise NotImplementedError()"
   ]
  },
  {
   "cell_type": "code",
   "execution_count": 111,
   "metadata": {},
   "outputs": [
    {
     "data": {
      "text/plain": [
       "Text(0.5,0,'Nofare(perished/survived)')"
      ]
     },
     "execution_count": 111,
     "metadata": {},
     "output_type": "execute_result"
    },
    {
     "data": {
      "image/png": "[encoded data removed]",
      "text/plain": [
       "<Figure size 864x504 with 6 Axes>"
      ]
     },
     "metadata": {},
     "output_type": "display_data"
    }
   ],
   "source": [
    "# visualizing the attributes\n",
    "fig, axs = plt.subplots(2,3, figsize=(12,7))\n",
    "plt.subplots_adjust(wspace=0.4, hspace=0.4)\n",
    "plt.subplot(2,3,1)\n",
    "p_survived['Sex'].value_counts().plot(kind='pie', title='Survivors by Gender', legend=True)\n",
    "plt.subplot(2,3,2)\n",
    "p_survived['Pclass'].value_counts().plot(kind='barh', title='Class', grid=True)\n",
    "plt.ylabel('pclass')\n",
    "plt.xlabel('No of Survivors')\n",
    "plt.subplot(2,3,3)\n",
    "p_survived['Embarked'].value_counts().plot(kind='bar', title='Embarked')\n",
    "plt.ylabel('No of Survivors')\n",
    "plt.xlabel('Port City')\n",
    "plt.subplot(2,3,4)\n",
    "p_survived['age_bins'].value_counts().plot(kind='bar', title='Age', grid=True)\n",
    "plt.ylabel('No of Survivors')\n",
    "plt.xlabel('Age Groups')\n",
    "plt.subplot(2,3,5)\n",
    "p_survived['family'].value_counts().plot(kind='pie', title='Family Onboard', legend=True)\n",
    "plt.xlabel('With/Without')\n",
    "plt.subplot(2,3,6)\n",
    "df_titanic[df_titanic['Fare'] == 0]['Survived'].value_counts().plot(kind='pie', title='Fare', legend=True)\n",
    "plt.xlabel('Nofare(perished/survived)')"
   ]
  },
  {
   "cell_type": "code",
   "execution_count": null,
   "metadata": {
    "collapsed": true,
    "deletable": false,
    "nbgrader": {
     "checksum": "7e5e69345bf584c4d07990ea7ab6a04f",
     "grade": true,
     "grade_id": "cell-76cdf73e80e73b45",
     "locked": false,
     "points": 0,
     "schema_version": 1,
     "solution": true
    }
   },
   "outputs": [],
   "source": [
    "# YOUR CODE HERE\n",
    "raise NotImplementedError()"
   ]
  },
  {
   "cell_type": "markdown",
   "metadata": {
    "deletable": false,
    "nbgrader": {
     "checksum": "80ccecfe39d9d6d9a8e773aad3adf6c2",
     "grade": true,
     "grade_id": "cell-fd8d5d286d869045",
     "locked": false,
     "points": 0,
     "schema_version": 1,
     "solution": true
    }
   },
   "source": [
    "### Question 2\n",
    "\n",
    "Apart from age, gender and passenger class, other attributes used in the analyses were point of embarkation, ticket fare, and having family member onboard. \n",
    "\n",
    "#### Port of Embarkation \n",
    "\n",
    "Among the three ports of embarkation, Southampton (S) was the main point where 72.44% of the passengers boarded the ship. Out of the 342 passengers that survived, 63.82% boarded at Southampton. In other words, a passenger who boarded at Southampton had a 63.82% chance of survival, all things being equal.\n",
    "\n",
    "\n",
    "#### Ticket Fare\n",
    "\n",
    "Fifteen(15) passengers paid zero fare among the 891 passengers on the dataset. Slicing out these passengers, showed only 1 out of 15 survived. In other words, not paying the fare put a passenger at a precarious 6.7% chance of survival and an alarming 93.3% change of perishing in the sea.\n",
    "\n",
    "\n",
    "The complete list of all attributes used are:\n",
    "<li> Age\n",
    "<li> Gender\n",
    "<li> Passenger class\n",
    "<li> Port of embarkation\n",
    "<li> Ticket fare\n",
    "<li> Presence of family onboard(siblings/children/spouse)"
   ]
  },
  {
   "cell_type": "code",
   "execution_count": 126,
   "metadata": {},
   "outputs": [
    {
     "data": {
      "text/plain": [
       "S    72.440945\n",
       "C    18.897638\n",
       "Q     8.661417\n",
       "Name: Embarked, dtype: float64"
      ]
     },
     "execution_count": 126,
     "metadata": {},
     "output_type": "execute_result"
    }
   ],
   "source": [
    "df_titanic['Embarked'].value_counts(normalize=True)*100"
   ]
  },
  {
   "cell_type": "code",
   "execution_count": 125,
   "metadata": {},
   "outputs": [
    {
     "data": {
      "text/plain": [
       "S    63.823529\n",
       "C    27.352941\n",
       "Q     8.823529\n",
       "Name: Embarked, dtype: float64"
      ]
     },
     "execution_count": 125,
     "metadata": {},
     "output_type": "execute_result"
    }
   ],
   "source": [
    "p_survived['Embarked'].value_counts(normalize=True)*100"
   ]
  },
  {
   "cell_type": "code",
   "execution_count": null,
   "metadata": {
    "collapsed": true,
    "deletable": false,
    "nbgrader": {
     "checksum": "1edf04a52c4ad88dc8d947668ce9bad7",
     "grade": true,
     "grade_id": "cell-b902eb9d9962e132",
     "locked": false,
     "points": 0,
     "schema_version": 1,
     "solution": true
    }
   },
   "outputs": [],
   "source": [
    "# YOUR CODE HERE\n",
    "raise NotImplementedError()"
   ]
  },
  {
   "cell_type": "code",
   "execution_count": 130,
   "metadata": {},
   "outputs": [
    {
     "data": {
      "text/plain": [
       "False    876\n",
       "True      15\n",
       "Name: Fare, dtype: int64"
      ]
     },
     "execution_count": 130,
     "metadata": {},
     "output_type": "execute_result"
    }
   ],
   "source": [
    "# calculating number of passengers who did not pay any fare\n",
    "zerofare = (df_titanic['Fare'] == 0).value_counts()\n",
    "zerofare"
   ]
  },
  {
   "cell_type": "code",
   "execution_count": 127,
   "metadata": {},
   "outputs": [
    {
     "data": {
      "text/plain": [
       "0    93.333333\n",
       "1     6.666667\n",
       "Name: Survived, dtype: float64"
      ]
     },
     "execution_count": 127,
     "metadata": {},
     "output_type": "execute_result"
    }
   ],
   "source": [
    "# calculating percentage of survivors who did not pay any fare\n",
    "nofare = df_titanic[df_titanic['Fare'] == 0]['Survived'].value_counts(normalize=True)*100\n",
    "nofare"
   ]
  },
  {
   "cell_type": "code",
   "execution_count": null,
   "metadata": {
    "collapsed": true,
    "deletable": false,
    "nbgrader": {
     "checksum": "d6664d1e0904c6cbc1d6287d2159204c",
     "grade": true,
     "grade_id": "cell-8e627631a92904ab",
     "locked": false,
     "points": 0,
     "schema_version": 1,
     "solution": true
    }
   },
   "outputs": [],
   "source": [
    "# YOUR CODE HERE\n",
    "raise NotImplementedError()"
   ]
  },
  {
   "cell_type": "markdown",
   "metadata": {
    "deletable": false,
    "nbgrader": {
     "checksum": "29fd0de1c668695a7f026fb71788df67",
     "grade": true,
     "grade_id": "cell-61644c6078932e77",
     "locked": false,
     "points": 0,
     "schema_version": 1,
     "solution": true
    }
   },
   "source": [
    "YOUR ANSWER HERE"
   ]
  },
  {
   "cell_type": "code",
   "execution_count": null,
   "metadata": {
    "collapsed": true,
    "deletable": false,
    "nbgrader": {
     "checksum": "56b0a84134c57c90dc5c5f3040d84411",
     "grade": true,
     "grade_id": "cell-47bea2ba4cf894a7",
     "locked": false,
     "points": 0,
     "schema_version": 1,
     "solution": true
    }
   },
   "outputs": [],
   "source": [
    "# YOUR CODE HERE\n",
    "raise NotImplementedError()"
   ]
  },
  {
   "cell_type": "markdown",
   "metadata": {
    "deletable": false,
    "nbgrader": {
     "checksum": "8768a40f41ee63e63c126bf85c1b4603",
     "grade": true,
     "grade_id": "cell-bae71d47aca76135",
     "locked": false,
     "points": 0,
     "schema_version": 1,
     "solution": true
    }
   },
   "source": [
    "YOUR ANSWER HERE"
   ]
  },
  {
   "cell_type": "code",
   "execution_count": null,
   "metadata": {
    "collapsed": true,
    "deletable": false,
    "nbgrader": {
     "checksum": "0de13c26606020f4f3fc594e2118664e",
     "grade": true,
     "grade_id": "cell-14ed473c7d633c50",
     "locked": false,
     "points": 0,
     "schema_version": 1,
     "solution": true
    }
   },
   "outputs": [],
   "source": [
    "# YOUR CODE HERE\n",
    "raise NotImplementedError()"
   ]
  },
  {
   "cell_type": "code",
   "execution_count": null,
   "metadata": {
    "collapsed": true,
    "deletable": false,
    "nbgrader": {
     "checksum": "91bf21df22ad91173dcd902d35ec7473",
     "grade": true,
     "grade_id": "cell-defdb5b16d4d109b",
     "locked": false,
     "points": 0,
     "schema_version": 1,
     "solution": true
    }
   },
   "outputs": [],
   "source": [
    "# YOUR CODE HERE\n",
    "raise NotImplementedError()"
   ]
  },
  {
   "cell_type": "code",
   "execution_count": null,
   "metadata": {
    "collapsed": true,
    "deletable": false,
    "nbgrader": {
     "checksum": "78d7b0d9d7295b626730bbd98660a593",
     "grade": true,
     "grade_id": "cell-035fd6e405ae4466",
     "locked": false,
     "points": 0,
     "schema_version": 1,
     "solution": true
    }
   },
   "outputs": [],
   "source": [
    "# YOUR CODE HERE\n",
    "raise NotImplementedError()"
   ]
  },
  {
   "cell_type": "code",
   "execution_count": null,
   "metadata": {
    "collapsed": true,
    "deletable": false,
    "nbgrader": {
     "checksum": "dff1ea9d4c08a958ed7a84fd96e7355d",
     "grade": true,
     "grade_id": "cell-5610d34591151adb",
     "locked": false,
     "points": 0,
     "schema_version": 1,
     "solution": true
    }
   },
   "outputs": [],
   "source": [
    "# YOUR CODE HERE\n",
    "raise NotImplementedError()"
   ]
  },
  {
   "cell_type": "code",
   "execution_count": null,
   "metadata": {
    "collapsed": true,
    "deletable": false,
    "nbgrader": {
     "checksum": "a819070a3408dfc4ec528e5f1bd0d108",
     "grade": true,
     "grade_id": "cell-47dce7d97c5e7151",
     "locked": false,
     "points": 0,
     "schema_version": 1,
     "solution": true
    }
   },
   "outputs": [],
   "source": [
    "# YOUR CODE HERE\n",
    "raise NotImplementedError()"
   ]
  },
  {
   "cell_type": "code",
   "execution_count": null,
   "metadata": {
    "collapsed": true,
    "deletable": false,
    "nbgrader": {
     "checksum": "ee3266ac1669be94046c7bb10270a19b",
     "grade": true,
     "grade_id": "cell-2b4c7b6aecba659b",
     "locked": false,
     "points": 0,
     "schema_version": 1,
     "solution": true
    }
   },
   "outputs": [],
   "source": [
    "# YOUR CODE HERE\n",
    "raise NotImplementedError()"
   ]
  },
  {
   "cell_type": "code",
   "execution_count": null,
   "metadata": {
    "collapsed": true,
    "deletable": false,
    "nbgrader": {
     "checksum": "166952145e45cef1cd54dcb1812bd398",
     "grade": true,
     "grade_id": "cell-498c0a4a06dc57f5",
     "locked": false,
     "points": 0,
     "schema_version": 1,
     "solution": true
    }
   },
   "outputs": [],
   "source": [
    "# YOUR CODE HERE\n",
    "raise NotImplementedError()"
   ]
  },
  {
   "cell_type": "code",
   "execution_count": null,
   "metadata": {
    "collapsed": true,
    "deletable": false,
    "nbgrader": {
     "checksum": "1b599891644e8a16738255b837f45925",
     "grade": true,
     "grade_id": "cell-a913e4c1e67b50b5",
     "locked": false,
     "points": 0,
     "schema_version": 1,
     "solution": true
    }
   },
   "outputs": [],
   "source": [
    "# YOUR CODE HERE\n",
    "raise NotImplementedError()"
   ]
  },
  {
   "cell_type": "code",
   "execution_count": null,
   "metadata": {
    "collapsed": true,
    "deletable": false,
    "nbgrader": {
     "checksum": "339ce94f77eab96d0d3987e5bad1fd8f",
     "grade": true,
     "grade_id": "cell-db6a73be2954fba6",
     "locked": false,
     "points": 0,
     "schema_version": 1,
     "solution": true
    }
   },
   "outputs": [],
   "source": [
    "# YOUR CODE HERE\n",
    "raise NotImplementedError()"
   ]
  },
  {
   "cell_type": "code",
   "execution_count": null,
   "metadata": {
    "collapsed": true,
    "deletable": false,
    "nbgrader": {
     "checksum": "ceb1c94362ab6f2b88560b314809368f",
     "grade": true,
     "grade_id": "cell-639cee9e88099f10",
     "locked": false,
     "points": 0,
     "schema_version": 1,
     "solution": true
    }
   },
   "outputs": [],
   "source": [
    "# YOUR CODE HERE\n",
    "raise NotImplementedError()"
   ]
  },
  {
   "cell_type": "code",
   "execution_count": null,
   "metadata": {
    "collapsed": true,
    "deletable": false,
    "nbgrader": {
     "checksum": "dd5709bab0c385bc3b0ba6c502bc6714",
     "grade": true,
     "grade_id": "cell-b5f54140308d27ff",
     "locked": false,
     "points": 0,
     "schema_version": 1,
     "solution": true
    }
   },
   "outputs": [],
   "source": [
    "# YOUR CODE HERE\n",
    "raise NotImplementedError()"
   ]
  }
 ],
 "metadata": {
  "kernelspec": {
   "display_name": "Python 3",
   "language": "python",
   "name": "myenv"
  },
  "language_info": {
   "codemirror_mode": {
    "name": "ipython",
    "version": 3
   },
   "file_extension": ".py",
   "mimetype": "text/x-python",
   "name": "python",
   "nbconvert_exporter": "python",
   "pygments_lexer": "ipython3",
   "version": "3.6.4"
  },
  "latex_envs": {
   "LaTeX_envs_menu_present": true,
   "autoclose": false,
   "autocomplete": true,
   "bibliofile": "biblio.bib",
   "cite_by": "apalike",
   "current_citInitial": 1,
   "eqLabelWithNumbers": true,
   "eqNumInitial": 1,
   "hotkeys": {
    "equation": "Ctrl-E",
    "itemize": "Ctrl-I"
   },
   "labels_anchors": false,
   "latex_user_defs": false,
   "report_style_numbering": false,
   "user_envs_cfg": false
  },
  "nbTranslate": {
   "displayLangs": [
    "*"
   ],
   "hotkey": "alt-t",
   "langInMainMenu": true,
   "sourceLang": "en",
   "targetLang": "fr",
   "useGoogleTranslate": true
  },
  "toc": {
   "base_numbering": 1,
   "nav_menu": {},
   "number_sections": false,
   "sideBar": true,
   "skip_h1_title": false,
   "title_cell": "Table of Contents",
   "title_sidebar": "Contents",
   "toc_cell": false,
   "toc_position": {
    "height": "calc(100% - 180px)",
    "left": "10px",
    "top": "150px",
    "width": "240px"
   },
   "toc_section_display": true,
   "toc_window_display": false
  },
  "varInspector": {
   "cols": {
    "lenName": 16,
    "lenType": 16,
    "lenVar": 40
   },
   "kernels_config": {
    "python": {
     "delete_cmd_postfix": "",
     "delete_cmd_prefix": "del ",
     "library": "var_list.py",
     "varRefreshCmd": "print(var_dic_list())"
    },
    "r": {
     "delete_cmd_postfix": ") ",
     "delete_cmd_prefix": "rm(",
     "library": "var_list.r",
     "varRefreshCmd": "cat(var_dic_list()) "
    }
   },
   "types_to_exclude": [
    "module",
    "function",
    "builtin_function_or_method",
    "instance",
    "_Feature"
   ],
   "window_display": false
  }
 },
 "nbformat": 4,
 "nbformat_minor": 2
}
