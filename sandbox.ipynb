{
 "cells": [
  {
   "cell_type": "markdown",
   "metadata": {},
   "source": [
    "A1Q1"
   ]
  },
  {
   "cell_type": "code",
   "execution_count": 2,
   "metadata": {
    "collapsed": true
   },
   "outputs": [],
   "source": [
    "def isIn(topLeft=(0,0), bottomRight=(0,0), point=(0,0)):\n",
    "    if point[0] >= topLeft[0] and point[0] <= bottomRight[0] and point[1] >= topLeft[1] and point[1] <= bottomRight[1]:\n",
    "        return True\n",
    "    else:\n",
    "        return False\n",
    "    raise NotImplementedError()"
   ]
  },
  {
   "cell_type": "code",
   "execution_count": 3,
   "metadata": {},
   "outputs": [
    {
     "data": {
      "text/plain": [
       "True"
      ]
     },
     "execution_count": 3,
     "metadata": {},
     "output_type": "execute_result"
    }
   ],
   "source": [
    "isIn((1,2), (3,4), (1.5, 3.2))"
   ]
  },
  {
   "cell_type": "code",
   "execution_count": 4,
   "metadata": {},
   "outputs": [
    {
     "data": {
      "text/plain": [
       "False"
      ]
     },
     "execution_count": 4,
     "metadata": {},
     "output_type": "execute_result"
    }
   ],
   "source": [
    "isIn((-1,0), (5,5), (6,0))"
   ]
  },
  {
   "cell_type": "code",
   "execution_count": 5,
   "metadata": {},
   "outputs": [
    {
     "data": {
      "text/plain": [
       "True"
      ]
     },
     "execution_count": 5,
     "metadata": {},
     "output_type": "execute_result"
    }
   ],
   "source": [
    "isIn((0,0), (0,0), (0,0))"
   ]
  },
  {
   "cell_type": "markdown",
   "metadata": {},
   "source": [
    "A1Q2"
   ]
  },
  {
   "cell_type": "code",
   "execution_count": 6,
   "metadata": {
    "collapsed": true
   },
   "outputs": [],
   "source": [
    "def allIn(topLeft=(0,0), bottomRight=(0,0), pointList=[]):\n",
    "    for point in pointList:\n",
    "        result = isIn(topLeft, bottomRight, point)\n",
    "        if result == False:\n",
    "            return False\n",
    "            \n",
    "    return True\n",
    "    \n",
    "    raise NotImplementedError()"
   ]
  },
  {
   "cell_type": "code",
   "execution_count": 7,
   "metadata": {},
   "outputs": [
    {
     "data": {
      "text/plain": [
       "True"
      ]
     },
     "execution_count": 7,
     "metadata": {},
     "output_type": "execute_result"
    }
   ],
   "source": [
    "allIn((1,2), (3,4), [(1.5, 3.2),(2.5, 2),(1.8,2.3),(2.4,4),(1,3.8)])"
   ]
  },
  {
   "cell_type": "code",
   "execution_count": 8,
   "metadata": {},
   "outputs": [
    {
     "data": {
      "text/plain": [
       "False"
      ]
     },
     "execution_count": 8,
     "metadata": {},
     "output_type": "execute_result"
    }
   ],
   "source": [
    "allIn((1,2), (3,4), [(1.5, 3.2),(2.5, 2),(3.8,2.3),(2.4,4),(1,3.8)])"
   ]
  },
  {
   "cell_type": "code",
   "execution_count": 9,
   "metadata": {},
   "outputs": [
    {
     "data": {
      "text/plain": [
       "True"
      ]
     },
     "execution_count": 9,
     "metadata": {},
     "output_type": "execute_result"
    }
   ],
   "source": [
    "allIn((0,0), (5,5), [(1,1), (0,0), (5,5)])"
   ]
  },
  {
   "cell_type": "code",
   "execution_count": 10,
   "metadata": {},
   "outputs": [
    {
     "data": {
      "text/plain": [
       "False"
      ]
     },
     "execution_count": 10,
     "metadata": {},
     "output_type": "execute_result"
    }
   ],
   "source": [
    "allIn((0,0), (5,5), [(1,1), (0,0), (5,6)])"
   ]
  },
  {
   "cell_type": "markdown",
   "metadata": {},
   "source": [
    "A1Q3"
   ]
  },
  {
   "cell_type": "code",
   "execution_count": 11,
   "metadata": {},
   "outputs": [
    {
     "data": {
      "text/html": [
       "<div>\n",
       "<style scoped>\n",
       "    .dataframe tbody tr th:only-of-type {\n",
       "        vertical-align: middle;\n",
       "    }\n",
       "\n",
       "    .dataframe tbody tr th {\n",
       "        vertical-align: top;\n",
       "    }\n",
       "\n",
       "    .dataframe thead th {\n",
       "        text-align: right;\n",
       "    }\n",
       "</style>\n",
       "<table border=\"1\" class=\"dataframe\">\n",
       "  <thead>\n",
       "    <tr style=\"text-align: right;\">\n",
       "      <th></th>\n",
       "      <th>col1</th>\n",
       "      <th>col2</th>\n",
       "    </tr>\n",
       "  </thead>\n",
       "  <tbody>\n",
       "    <tr>\n",
       "      <th>0</th>\n",
       "      <td>1</td>\n",
       "      <td>4</td>\n",
       "    </tr>\n",
       "    <tr>\n",
       "      <th>1</th>\n",
       "      <td>2</td>\n",
       "      <td>5</td>\n",
       "    </tr>\n",
       "    <tr>\n",
       "      <th>2</th>\n",
       "      <td>3</td>\n",
       "      <td>6</td>\n",
       "    </tr>\n",
       "  </tbody>\n",
       "</table>\n",
       "</div>"
      ],
      "text/plain": [
       "   col1  col2\n",
       "0     1     4\n",
       "1     2     5\n",
       "2     3     6"
      ]
     },
     "execution_count": 11,
     "metadata": {},
     "output_type": "execute_result"
    }
   ],
   "source": [
    "from pandas import DataFrame\n",
    "df = DataFrame({'col1': [1, 2, 3], 'col2': [4, 5, 6]})\n",
    "df"
   ]
  },
  {
   "cell_type": "code",
   "execution_count": 12,
   "metadata": {},
   "outputs": [
    {
     "data": {
      "text/plain": [
       "6"
      ]
     },
     "execution_count": 12,
     "metadata": {},
     "output_type": "execute_result"
    }
   ],
   "source": [
    "# Write code to find the largest value in the DataFrame\n",
    "def question3AFunction(input = df):\n",
    "    return input.stack().max()\n",
    "    raise NotImplementedError()\n",
    "    \n",
    "question3AFunction()"
   ]
  },
  {
   "cell_type": "markdown",
   "metadata": {
    "collapsed": true
   },
   "source": [
    "A1Q3B"
   ]
  },
  {
   "cell_type": "code",
   "execution_count": 13,
   "metadata": {
    "collapsed": true
   },
   "outputs": [],
   "source": [
    "s = 'AGCTTTTCATTCTGACTGCAACGGGCAATATGTCTCTGTGTGGATTAAAAAAAGAGTGTCTGATAGCAGC'\n",
    "\n",
    "# Write the code to print out a list of four integers, which will represent the count\n",
    "# of each of the symbols: 'A', 'C', 'G', and 'T'\n",
    "def question3Function(input = s):\n",
    "    # YOUR CODE HERE\n",
    "    a, c, g, t = 0,0,0,0\n",
    "    for item in input:\n",
    "        if item == 'A':\n",
    "            a += 1\n",
    "        elif item == 'C':\n",
    "            c += 1\n",
    "        elif item == 'G':\n",
    "            g += 1\n",
    "        else:\n",
    "            t += 1\n",
    "    return [a, c, g, t]\n",
    "    raise NotImplementedError()"
   ]
  },
  {
   "cell_type": "code",
   "execution_count": 14,
   "metadata": {},
   "outputs": [
    {
     "data": {
      "text/plain": [
       "[20, 12, 17, 21]"
      ]
     },
     "execution_count": 14,
     "metadata": {},
     "output_type": "execute_result"
    }
   ],
   "source": [
    "question3Function()"
   ]
  },
  {
   "cell_type": "markdown",
   "metadata": {},
   "source": [
    "A1Q4"
   ]
  },
  {
   "cell_type": "code",
   "execution_count": 15,
   "metadata": {
    "collapsed": true
   },
   "outputs": [],
   "source": [
    "# Run this cell to create a dictionary of states' capitals\n",
    "capitals={\n",
    "    'Alabama': 'Montgomery',\n",
    "    'Alaska': 'Juneau',\n",
    "    'Arizona':'Phoenix',\n",
    "    'Arkansas':'Little Rock',\n",
    "    'California': 'Sacramento',\n",
    "    'Colorado':'Denver',\n",
    "    'Connecticut':'Hartford',\n",
    "    'Delaware':'Dover',\n",
    "    'Florida': 'Tallahassee',\n",
    "    'Georgia': 'Atlanta',\n",
    "    'Hawaii': 'Honolulu',\n",
    "    'Idaho': 'Boise',\n",
    "    'Illinios': 'Springfield',\n",
    "    'Indiana': 'Indianapolis',\n",
    "    'Iowa': 'Des Monies',\n",
    "    'Kansas': 'Topeka',\n",
    "    'Kentucky': 'Frankfort',\n",
    "    'Louisiana': 'Baton Rouge',\n",
    "    'Maine': 'Augusta',\n",
    "    'Maryland': 'Annapolis',\n",
    "    'Massachusetts': 'Boston',\n",
    "    'Michigan': 'Lansing',\n",
    "    'Minnesota': 'St. Paul',\n",
    "    'Mississippi': 'Jackson',\n",
    "    'Missouri': 'Jefferson City',\n",
    "    'Montana': 'Helena',\n",
    "    'Nebraska': 'Lincoln',\n",
    "    'Neveda': 'Carson City',\n",
    "    'New Hampshire': 'Concord',\n",
    "    'New Jersey': 'Trenton',\n",
    "    'New Mexico': 'Santa Fe',\n",
    "    'New York': 'Albany',\n",
    "    'North Carolina': 'Raleigh',\n",
    "    'North Dakota': 'Bismarck',\n",
    "    'Ohio': 'Columbus',\n",
    "    'Oklahoma': 'Oklahoma City',\n",
    "    'Oregon': 'Salem',\n",
    "    'Pennsylvania': 'Harrisburg',\n",
    "    'Rhoda Island': 'Providence',\n",
    "    'South Carolina': 'Columbia',\n",
    "    'South Dakota': 'Pierre',\n",
    "    'Tennessee': 'Nashville',\n",
    "    'Texas': 'Austin',\n",
    "    'Utah': 'Salt Lake City',\n",
    "    'Vermont': 'Montpelier',\n",
    "    'Virginia': 'Richmond',\n",
    "    'Washington': 'Olympia',\n",
    "    'West Virginia': 'Charleston',\n",
    "    'Wisconsin': 'Madison',\n",
    "    'Wyoming': 'Cheyenne'  \n",
    "}\n",
    "# Write a function to return a list of all capitals that contain the name of a state in their name as a substring\n",
    "# The list that is produced should include Kansas City and one other"
   ]
  },
  {
   "cell_type": "code",
   "execution_count": 16,
   "metadata": {},
   "outputs": [
    {
     "data": {
      "text/plain": [
       "50"
      ]
     },
     "execution_count": 16,
     "metadata": {},
     "output_type": "execute_result"
    }
   ],
   "source": [
    "len(capitals)"
   ]
  },
  {
   "cell_type": "code",
   "execution_count": 17,
   "metadata": {},
   "outputs": [
    {
     "data": {
      "text/plain": [
       "['Indianapolis', 'Oklahoma City']"
      ]
     },
     "execution_count": 17,
     "metadata": {},
     "output_type": "execute_result"
    }
   ],
   "source": [
    "def state_in_capital_name(capitals):\n",
    "    # YOUR CODE HERE\n",
    "    my_list = []\n",
    "    for key, value in capitals.items():\n",
    "        if key in value:\n",
    "            my_list.append(value)\n",
    "    return my_list\n",
    "    raise NotImplementedError()\n",
    "    \n",
    "state_in_capital_name(capitals)"
   ]
  },
  {
   "cell_type": "code",
   "execution_count": 18,
   "metadata": {},
   "outputs": [
    {
     "data": {
      "text/plain": [
       "['Indianapolis', 'Oklahoma City']"
      ]
     },
     "execution_count": 18,
     "metadata": {},
     "output_type": "execute_result"
    }
   ],
   "source": [
    "def s_in_all(capitals):\n",
    "    c_list = []\n",
    "    for value in capitals.values():\n",
    "        for key in capitals.keys():\n",
    "            if key in value:\n",
    "                c_list.append(value)\n",
    "    return list(set(c_list))\n",
    "        \n",
    "\n",
    "s_in_all(capitals)"
   ]
  },
  {
   "cell_type": "code",
   "execution_count": null,
   "metadata": {
    "collapsed": true
   },
   "outputs": [],
   "source": []
  }
 ],
 "metadata": {
  "kernelspec": {
   "display_name": "Python 3",
   "language": "python",
   "name": "myenv"
  },
  "language_info": {
   "codemirror_mode": {
    "name": "ipython",
    "version": 3
   },
   "file_extension": ".py",
   "mimetype": "text/x-python",
   "name": "python",
   "nbconvert_exporter": "python",
   "pygments_lexer": "ipython3",
   "version": "3.6.4"
  }
 },
 "nbformat": 4,
 "nbformat_minor": 2
}
